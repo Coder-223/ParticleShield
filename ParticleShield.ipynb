{
  "nbformat": 4,
  "nbformat_minor": 0,
  "metadata": {
    "colab": {
      "provenance": []
    },
    "kernelspec": {
      "name": "python3",
      "display_name": "Python 3"
    },
    "language_info": {
      "name": "python"
    }
  },
  "cells": [
    {
      "cell_type": "markdown",
      "source": [
        "**Import Libraries**"
      ],
      "metadata": {
        "id": "8AuAaaX1GAdn"
      }
    },
    {
      "cell_type": "code",
      "source": [
        "import math, numpy as np, matplotlib.pyplot as plt"
      ],
      "metadata": {
        "id": "1lMRSTiPGDAi"
      },
      "execution_count": 32,
      "outputs": []
    },
    {
      "cell_type": "markdown",
      "source": [
        "**Function Definition** **bold text**"
      ],
      "metadata": {
        "id": "46WDT8hNGJyD"
      }
    },
    {
      "cell_type": "code",
      "source": [
        "def calculate_hvl(initial_intensity, attenuation_factor):\n",
        "    \"\"\"\n",
        "    Calculate the half-value layer (HVL) using the given attenuation factor.\n",
        "\n",
        "    Args:\n",
        "        initial_intensity (float): Initial radiation intensity (in watt per steradian).\n",
        "        attenuation_factor (float): Attenuation factor (in cm^-1).\n",
        "\n",
        "    Returns:\n",
        "        float: Half-value layer (in cm).\n",
        "    \"\"\"\n",
        "    if attenuation_factor <= 0:\n",
        "        raise ValueError(\"Attenuation factor must be greater than zero.\")\n",
        "    hvl = math.log(2) / attenuation_factor\n",
        "    return hvl\n",
        "\n",
        "def calculate_buildup_factor(penetration_depth, attenuation_factor):\n",
        "    \"\"\"\n",
        "    Calculate the buildup factor (B) for radiation penetration.\n",
        "\n",
        "    Args:\n",
        "        penetration_depth (float): Depth of penetration (in cm).\n",
        "        attenuation_factor (float): Attenuation factor (in cm^-1).\n",
        "\n",
        "    Returns:\n",
        "        float: Buildup factor.\n",
        "    \"\"\"\n",
        "    if penetration_depth < 0:\n",
        "        raise ValueError(\"Penetration depth cannot be negative.\")\n",
        "    B = math.exp(attenuation_factor * penetration_depth)\n",
        "    return B\n",
        "\n",
        "def calculate_dose_rate(intensity, conversion_factor, time, distance):\n",
        "    \"\"\"\n",
        "    Calculate the dose rate based on the given parameters.\n",
        "\n",
        "    Args:\n",
        "        intensity (float): Radiation intensity (in watt per steradian).\n",
        "        conversion_factor (float): Conversion factor for dose calculation.\n",
        "        time (float): Time of exposure (in seconds).\n",
        "        distance (float): Distance from the radiation source (in cm).\n",
        "\n",
        "    Returns:\n",
        "        float: Dose rate (in Gy/s).\n",
        "    \"\"\"\n",
        "    if intensity <= 0:\n",
        "        raise ValueError(\"Intensity must be greater than zero.\")\n",
        "    if conversion_factor <= 0:\n",
        "        raise ValueError(\"Conversion factor must be greater than zero.\")\n",
        "    if time < 0:\n",
        "        raise ValueError(\"Time cannot be negative.\")\n",
        "    if distance <= 0:\n",
        "        raise ValueError(\"Distance must be greater than zero.\")\n",
        "    dose_rate = (intensity * conversion_factor * time) / (distance ** 2)\n",
        "    return dose_rate\n",
        "\n",
        "def bethe_bloch(energy, z, A, Z, I):\n",
        "    \"\"\"\n",
        "    Simulate the Bethe-Bloch equation to calculate energy loss.\n",
        "\n",
        "    Args:\n",
        "        energy (float): Kinetic energy of the charged particle (in MeV).\n",
        "        z (float): Charge of the particle (in elementary charge units).\n",
        "        A (float): Atomic mass of the material.\n",
        "        Z (float): Atomic number of the material.\n",
        "        I (float): Mean ionization potential of the material (in eV).\n",
        "\n",
        "    Returns:\n",
        "        float: Energy loss of the particle (in MeV/cm).\n",
        "    \"\"\"\n",
        "    if energy <= 0:\n",
        "        raise ValueError(\"Energy must be greater than zero.\")\n",
        "    if z <= 0:\n",
        "        raise ValueError(\"Charge must be greater than zero.\")\n",
        "    if A <= 0:\n",
        "        raise ValueError(\"Atomic mass must be greater than zero.\")\n",
        "    if Z <= 0:\n",
        "        raise ValueError(\"Atomic number must be greater than zero.\")\n",
        "    if I <= 0:\n",
        "        raise ValueError(\"Mean ionization potential must be greater than zero.\")\n",
        "\n",
        "    beta = np.sqrt(2 * energy / (energy + 2 * 0.511))  # Calculate beta (velocity/c speed)\n",
        "    denominator = 1 - beta**2\n",
        "    if denominator < 1e-10:  # Check if denominator is close to zero\n",
        "        gamma = 1.0  # Set default value for gamma\n",
        "    else:\n",
        "        gamma = 1 / np.sqrt(denominator)  # Calculate gamma (Lorentz factor)\n",
        "    W_max = (2 * 0.511 * beta**2 * gamma**2) / (1 + 2 * gamma * 0.511 / energy + (0.511 / energy)**2)  # Calculate maximum energy transfer\n",
        "    delta = 0.5 * np.log(2 * 0.511 * beta**2 * gamma**2 * W_max / (I**2))  # Calculate density effect correction\n",
        "    K = 0.307  # K constant (in MeV cm^2/mol)\n",
        "\n",
        "    # Calculate energy loss using the Bethe-Bloch equation\n",
        "    dE_dx = (K * z**2 * Z * (1 / beta**2)) * (0.5 * np.log(2 * 0.511 * beta**2 * gamma**2 * W_max / (I**2)) - beta**2 - delta)\n",
        "\n",
        "    return dE_dx\n",
        "\n",
        "def generate_bragg_curve(alpha, p, shallowest_depth, deepest_depth, N=201, dmax=20.0):\n",
        "    \"\"\"\n",
        "    Generate and plot the Bragg curve for protons in air.\n",
        "\n",
        "    Args:\n",
        "        alpha (float): Empirical constant for protons in air.\n",
        "        p (float): Empirical exponent for protons in air.\n",
        "        shallowest_depth (float): Shallowest part of the dose interval (in cm).\n",
        "        deepest_depth (float): Deepest part of the dose interval (in cm).\n",
        "        N (int): Number of grid points (default: 201).\n",
        "        dmax (float): Maximum depth up to which to generate model output (default: 20.0).\n",
        "\n",
        "    Returns:\n",
        "        None\n",
        "    \"\"\"\n",
        "    if alpha <= 0:\n",
        "        raise ValueError(\"Alpha must be greater than zero.\")\n",
        "    if p <= 0:\n",
        "        raise ValueError(\"P must be greater than zero.\")\n",
        "    if shallowest_depth < 0:\n",
        "        raise ValueError(\"Shallowest depth cannot be negative.\")\n",
        "    if deepest_depth <= shallowest_depth:\n",
        "        raise ValueError(\"Deepest depth must be greater than the shallowest depth.\")\n",
        "    if N <= 0:\n",
        "        raise ValueError(\"Number of grid points must be greater than zero.\")\n",
        "    if dmax <= 0:\n",
        "        raise ValueError(\"Maximum depth must be greater than zero.\")\n",
        "\n",
        "    def g(d):\n",
        "        return np.piecewise(d, [d < 0, d > 0], [0, lambda d: 1.0 / (p * (alpha**(1.0/p)) * d**(1.0 - 1.0/p))])\n",
        "\n",
        "    d = np.linspace(0, dmax, N)\n",
        "    Bragg_peak = g(deepest_depth - d)\n",
        "\n",
        "    plt.plot(d, Bragg_peak, linewidth=2)\n",
        "    plt.title(\"Bragg Curve for Protons in Air\")\n",
        "    plt.xlabel(\"Depth (cm)\")\n",
        "    plt.ylabel(\"Dose\")\n",
        "    plt.grid(True)\n",
        "    plt.ylim(0, np.max(Bragg_peak) * 1.1)\n",
        "    plt.show()\n",
        "\n",
        "def calculate_attenuation(I0, mu, x):\n",
        "    \"\"\"\n",
        "    Calculate radiation attenuation using the general formula.\n",
        "\n",
        "    Args:\n",
        "        I0 (float): Initial radiation intensity (in watt per steradian)\n",
        "        mu (float): Attenuation coefficient (in cm^-1).\n",
        "        x (float): Distance or thickness of the material (in cm).\n",
        "\n",
        "    Returns:\n",
        "        float: Attenuated radiation intensity \n",
        "    \"\"\"\n",
        "    if I0 <= 0:\n",
        "        raise ValueError(\"Initial radiation intensity must be greater than zero.\")\n",
        "    if mu <= 0:\n",
        "        raise ValueError(\"Attenuation coefficient must be greater than zero.\")\n",
        "    if x < 0:\n",
        "        raise ValueError(\"Distance or thickness cannot be negative.\")\n",
        "    \n",
        "    I = I0 * np.exp(-mu * x)\n",
        "    return I\n"
      ],
      "metadata": {
        "id": "9xlsYfqxjXvU"
      },
      "execution_count": 33,
      "outputs": []
    },
    {
      "cell_type": "markdown",
      "source": [
        "Test ***Functions***"
      ],
      "metadata": {
        "id": "yZhwJtxFGS47"
      }
    },
    {
      "cell_type": "code",
      "source": [
        "intensity = 10\n",
        "conversion_factor = 0.5\n",
        "time = 2\n",
        "distance = 3\n",
        "\n",
        "result = calculate_dose_rate(intensity, conversion_factor, time, distance)\n",
        "print(\"Dose Rate:\", result)"
      ],
      "metadata": {
        "colab": {
          "base_uri": "https://localhost:8080/"
        },
        "id": "be0G97wGC3Af",
        "outputId": "a841095e-0b16-451d-ebca-86ea7fb7b7a3"
      },
      "execution_count": 34,
      "outputs": [
        {
          "output_type": "stream",
          "name": "stdout",
          "text": [
            "Dose Rate: 1.1111111111111112\n"
          ]
        }
      ]
    },
    {
      "cell_type": "code",
      "source": [
        "initial_intensity = 100\n",
        "attenuation_factor = 0.1\n",
        "\n",
        "result = calculate_hvl(initial_intensity, attenuation_factor)\n",
        "print(\"Half-Value Layer (HVL):\", result)"
      ],
      "metadata": {
        "colab": {
          "base_uri": "https://localhost:8080/"
        },
        "id": "vGaZGYYzjO-c",
        "outputId": "899fdccd-04ee-49b9-c0b7-489171245f47"
      },
      "execution_count": 35,
      "outputs": [
        {
          "output_type": "stream",
          "name": "stdout",
          "text": [
            "Half-Value Layer (HVL): 6.931471805599452\n"
          ]
        }
      ]
    },
    {
      "cell_type": "code",
      "source": [
        "penetration_depth = 5\n",
        "attenuation_factor = 0.2\n",
        "\n",
        "result = calculate_buildup_factor(penetration_depth, attenuation_factor)\n",
        "print(\"Buildup Factor (B):\", result)"
      ],
      "metadata": {
        "id": "6fxZ_rjRlJLF",
        "outputId": "79fb1ed2-07b0-4b3b-b00f-46d7c01f2c31",
        "colab": {
          "base_uri": "https://localhost:8080/"
        }
      },
      "execution_count": 36,
      "outputs": [
        {
          "output_type": "stream",
          "name": "stdout",
          "text": [
            "Buildup Factor (B): 2.718281828459045\n"
          ]
        }
      ]
    },
    {
      "cell_type": "code",
      "source": [
        "# Example usage - Photons in air\n",
        "\n",
        "initial_intensity = 10.0  # Initial radiation intensity  \n",
        "attenuation_coefficient = 0.5  # Attenuation coefficient in cm^-1\n",
        "distance = 2.0  # Distance or thickness of the material in cm\n",
        "\n",
        "attenuated_intensity = calculate_attenuation(initial_intensity, attenuation_coefficient, distance)\n",
        "print(\"Attenuated Intensity:\", attenuated_intensity)"
      ],
      "metadata": {
        "colab": {
          "base_uri": "https://localhost:8080/"
        },
        "id": "UGr5GsOUFkdd",
        "outputId": "d1c63add-22a2-4b11-dbc0-e733bea2bb54"
      },
      "execution_count": 37,
      "outputs": [
        {
          "output_type": "stream",
          "name": "stdout",
          "text": [
            "Attenuated Intensity: 3.6787944117144233\n"
          ]
        }
      ]
    },
    {
      "cell_type": "code",
      "source": [
        "# Example usage - Protons in Air\n",
        "kinetic_energy = 100  # MeV\n",
        "charge = 1  # Elementary charge units\n",
        "atomic_mass = 28.09  # g/mol\n",
        "atomic_number = 14\n",
        "ionization_potential = 78  # eV\n",
        "\n",
        "energy_loss = bethe_bloch(kinetic_energy, charge, atomic_mass, atomic_number, ionization_potential)\n",
        "print(\"Energy Loss:\", energy_loss, \"MeV/cm\")"
      ],
      "metadata": {
        "colab": {
          "base_uri": "https://localhost:8080/"
        },
        "id": "fJ_x1-6AFneU",
        "outputId": "116e5f93-9844-4e16-e88b-811b8faa6776"
      },
      "execution_count": 38,
      "outputs": [
        {
          "output_type": "stream",
          "name": "stdout",
          "text": [
            "Energy Loss: -4.297999999999999 MeV/cm\n"
          ]
        }
      ]
    },
    {
      "cell_type": "code",
      "source": [
        "# Example usage - protons in air\n",
        "alpha = 0.1666\n",
        "p = 1.76\n",
        "shallowest_depth = 10.0\n",
        "deepest_depth = 15.0\n",
        "\n",
        "generate_bragg_curve(alpha, p, shallowest_depth, deepest_depth)"
      ],
      "metadata": {
        "colab": {
          "base_uri": "https://localhost:8080/",
          "height": 472
        },
        "id": "dx6oVcTSFrj_",
        "outputId": "c85bea86-9ae8-4447-e01a-0360d9404534"
      },
      "execution_count": 39,
      "outputs": [
        {
          "output_type": "display_data",
          "data": {
            "text/plain": [
              "<Figure size 640x480 with 1 Axes>"
            ],
            "image/png": "[encoded data removed]"
          },
          "metadata": {}
        }
      ]
    },
    {
      "cell_type": "code",
      "source": [],
      "metadata": {
        "id": "fo2ACXGRLnB-"
      },
      "execution_count": 39,
      "outputs": []
    }
  ]
}